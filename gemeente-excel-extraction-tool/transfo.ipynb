{
 "cells": [
  {
   "cell_type": "markdown",
   "metadata": {},
   "source": [
    "# Excel File transformations"
   ]
  },
  {
   "cell_type": "code",
   "execution_count": 1,
   "metadata": {},
   "outputs": [
    {
     "name": "stdout",
     "output_type": "stream",
     "text": [
      "Defaulting to user installation because normal site-packages is not writeable\n",
      "Requirement already satisfied: openpyxl in /Users/torwynd/Library/Python/3.9/lib/python/site-packages (3.0.10)\n",
      "Requirement already satisfied: et-xmlfile in /Users/torwynd/Library/Python/3.9/lib/python/site-packages (from openpyxl) (1.1.0)\n"
     ]
    },
    {
     "name": "stderr",
     "output_type": "stream",
     "text": [
      "WARNING: pip is being invoked by an old script wrapper. This will fail in a future version of pip.\n",
      "Please see https://github.com/pypa/pip/issues/5599 for advice on fixing the underlying issue.\n",
      "To avoid this problem you can invoke Python with '-m pip' instead of running pip directly.\n",
      "WARNING: You are using pip version 21.2.4; however, version 22.3 is available.\n",
      "You should consider upgrading via the '/Library/Developer/CommandLineTools/usr/bin/python3 -m pip install --upgrade pip' command.\n"
     ]
    },
    {
     "name": "stdout",
     "output_type": "stream",
     "text": [
      "22/10/31 11:29:01 WARN Utils: Your hostname, Torwynds-MacBook-Pro.local resolves to a loopback address: 127.0.0.1; using 10.233.67.140 instead (on interface en0)\n",
      "22/10/31 11:29:01 WARN Utils: Set SPARK_LOCAL_IP if you need to bind to another address\n"
     ]
    },
    {
     "name": "stderr",
     "output_type": "stream",
     "text": [
      "Setting default log level to \"WARN\".\n",
      "To adjust logging level use sc.setLogLevel(newLevel). For SparkR, use setLogLevel(newLevel).\n"
     ]
    },
    {
     "name": "stdout",
     "output_type": "stream",
     "text": [
      "22/10/31 11:29:02 WARN NativeCodeLoader: Unable to load native-hadoop library for your platform... using builtin-java classes where applicable\n"
     ]
    },
    {
     "name": "stderr",
     "output_type": "stream",
     "text": [
      "/Users/torwynd/Library/Python/3.9/lib/python/site-packages/pyspark/sql/context.py:112: FutureWarning: Deprecated in 3.0.0. Use SparkSession.builder.getOrCreate() instead.\n",
      "  warnings.warn(\n"
     ]
    },
    {
     "name": "stdout",
     "output_type": "stream",
     "text": [
      "22/10/31 11:29:05 WARN SparkSession: Using an existing Spark session; only runtime SQL configurations will take effect.\n"
     ]
    }
   ],
   "source": [
    "from pyspark import SparkContext\n",
    "import pip\n",
    "pip.main([\"install\", \"openpyxl\"])\n",
    "from pyspark.sql.types import *\n",
    "from pyspark.sql import *\n",
    "from typing import List\n",
    "import json\n",
    "import numpy as np\n",
    "import shutil\n",
    "import pandas as pd\n",
    "import os\n",
    "from pyspark.sql import functions as F\n",
    "from pyspark.sql.functions import col, desc, asc, udf, max, struct\n",
    "try:\n",
    "    sc = SparkContext(\"local\").getOrCreate()\n",
    "except:\n",
    "    print(\"Spark Context Initialised\")\n",
    "\n",
    "sqlContext = SQLContext(sc)\n",
    "# spark = SparkSession(sc)\n",
    "\n",
    "# spark.conf.set(\"spark.sql.repl.eagerEval.enabled\", True)\n",
    "\n",
    "spark = SparkSession.builder \\\n",
    ".master(\"local\") \\\n",
    ".appName(\"Word Count\") \\\n",
    ".config(\"spark.jars.packages\", \"com.crealytics:spark-excel_2.11:0.12.2\") \\\n",
    ".getOrCreate()"
   ]
  },
  {
   "cell_type": "code",
   "execution_count": 2,
   "metadata": {},
   "outputs": [
    {
     "name": "stdout",
     "output_type": "stream",
     "text": [
      "hello\n",
      "No.\n",
      "No.\n",
      "No.\n",
      "No.\n",
      "No.\n",
      "No.\n",
      "No.\n",
      "No.\n",
      "No.\n",
      "No.\n",
      "No.\n",
      "No.\n",
      "No.\n",
      "No.\n",
      "No.\n",
      "No.\n",
      "No.\n",
      "No.\n",
      "No.\n",
      "No.\n",
      "No.\n"
     ]
    }
   ],
   "source": [
    "# filePath =\"./data/Alle_Indicatoren.xlsx\"\n",
    "print(\"hello\")\n",
    "directory = \"./data/\"\n",
    "output_directory = \"./formatted_data/\"\n",
    "try:\n",
    "    if os.path.exists(output_directory):\n",
    "        shutil.rmtree(output_directory)\n",
    "    os.mkdir(output_directory)\n",
    "\n",
    "    for filename in os.scandir(directory):\n",
    "        if filename.is_file() and filename.name != \".DS_Store\":\n",
    "            filePath = filename.path\n",
    "\n",
    "            excelFile = pd.ExcelFile(filePath)\n",
    "            pdf = pd.read_excel(filePath)\n",
    "\n",
    "            sheet_names = excelFile.sheet_names\n",
    "            formatted_filename = filename.name.removesuffix('.xlsx').removesuffix(' ').replace(\" \", \"_\").lower()\n",
    "\n",
    "            os.mkdir(output_directory.lower() + formatted_filename)\n",
    "\n",
    "            try:\n",
    "                for worksheet in sheet_names:\n",
    "                    try:\n",
    "                        pdf_01 = pd.read_excel(filePath, worksheet)\n",
    "                        pdf_01[\"Gemeente\"] = pdf_01[\"Gemeente\"].str.removesuffix(' ').replace(\" \", \"_\").str.lower().str.removeprefix(\"_\").str.removeprefix(\" \")\n",
    "\n",
    "                        worksheet_indicator = pdf_01[\"Indicator\"][0].removesuffix(' ').replace(\" \", \"_\").lower()\n",
    "\n",
    "    \n",
    "\n",
    "                        prep_json = pdf_01.to_json(orient='records')\n",
    "                        final_json = json.loads(prep_json)\n",
    "\n",
    "                        with open(f\"./formatted_data/{formatted_filename}/{worksheet_indicator}.json\", \"w\") as outfile:\n",
    "                            json.dump(final_json, outfile)\n",
    "                    except:\n",
    "                        print(\"No.\")\n",
    "            except Exception as e:\n",
    "                print(e)\n",
    "except(Exception) as e:\n",
    "    print(e)"
   ]
  }
 ],
 "metadata": {
  "kernelspec": {
   "display_name": "Python 3.9.6 64-bit",
   "language": "python",
   "name": "python3"
  },
  "language_info": {
   "codemirror_mode": {
    "name": "ipython",
    "version": 3
   },
   "file_extension": ".py",
   "mimetype": "text/x-python",
   "name": "python",
   "nbconvert_exporter": "python",
   "pygments_lexer": "ipython3",
   "version": "3.9.6"
  },
  "orig_nbformat": 4,
  "vscode": {
   "interpreter": {
    "hash": "31f2aee4e71d21fbe5cf8b01ff0e069b9275f58929596ceb00d14d90e3e16cd6"
   }
  }
 },
 "nbformat": 4,
 "nbformat_minor": 2
}
